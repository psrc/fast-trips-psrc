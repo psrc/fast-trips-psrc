{
 "cells": [
  {
   "cell_type": "code",
   "execution_count": 1,
   "metadata": {
    "collapsed": true
   },
   "outputs": [],
   "source": [
    "# Process OBS so it's ready for comparison"
   ]
  },
  {
   "cell_type": "code",
   "execution_count": 2,
   "metadata": {
    "collapsed": true
   },
   "outputs": [],
   "source": [
    "import pandas as pd"
   ]
  },
  {
   "cell_type": "markdown",
   "metadata": {},
   "source": [
    "# Load and Clean: new file version"
   ]
  },
  {
   "cell_type": "code",
   "execution_count": 8,
   "metadata": {
    "collapsed": false
   },
   "outputs": [],
   "source": [
    "# Read latest OBS data\n",
    "df = pd.read_csv(r'R:\\FastTrips\\PathChoice_Validation\\OBS_to_FToutput\\OBS_FToutput.csv')\n",
    "\n",
    "# Pull the person ID from the original record file (separated by \"---\"\n",
    "df['person_id'] = df['person_id'].apply(lambda x: x.split(\"---\")[0]).astype('str')\n",
    "\n",
    "# Create empty fields we might populate later\n",
    "df['A_id'] = df['A_id_num']\n",
    "df['B_id'] = df['B_id_num']\n",
    "\n",
    "# Fill NaN type with empty string\n",
    "for field in ['A_id_num','B_id_num','A_id','B_id']:\n",
    "    df[field].fillna(\"\",inplace=True)\n",
    "    \n",
    "# The trip_list_id num are off in our input\n",
    "# We need to make them match the fast trips outputs\n",
    "# Lookup the trip_list_id_num from the input file; these are based on the trip otaz and dtaz\n",
    "\n",
    "# Create a field designating the origin and destination taz for entire path\n",
    "origin = pd.DataFrame(df.groupby(['person_id','trip_list_id_num']).first()['A_id_num'])\n",
    "dest = pd.DataFrame(df.groupby(['person_id','trip_list_id_num']).last()['B_id_num'])\n",
    "\n",
    "origin['path_o_taz'] = origin['A_id_num']\n",
    "origin.drop('A_id_num',axis=1,inplace=True)\n",
    "origin['person_id'] = origin.index.get_level_values(0)\n",
    "origin['trip_list_id_num'] = origin.index.get_level_values(1)\n",
    "\n",
    "dest['path_d_taz'] = dest['B_id_num']\n",
    "dest.drop('B_id_num',axis=1,inplace=True)\n",
    "dest['person_id'] = dest.index.get_level_values(0)\n",
    "dest['trip_list_id_num'] = dest.index.get_level_values(1)\n",
    "\n",
    "# Merge to include a path_origin and path_dest field for each path link\n",
    "df = pd.merge(df, origin, on=['person_id','trip_list_id_num'],how='left')\n",
    "df = pd.merge(df, dest, on=['person_id','trip_list_id_num'],how='left')"
   ]
  },
  {
   "cell_type": "code",
   "execution_count": 9,
   "metadata": {
    "collapsed": true
   },
   "outputs": [],
   "source": [
    "# Read in an Fast Trips input format\n",
    "obsinput = pd.read_csv('../data/obs/trip_list.txt')\n",
    "obsinput['person_id'] = obsinput['person_id'].astype('int').astype('str')\n",
    "obsinput['trip_list_id_num'] = obsinput['trip_list_id_num'].astype('int').astype('str')\n",
    "\n",
    "obsinput['unique_id'] = obsinput['person_id'] + \"_\" + obsinput['trip_list_id_num']"
   ]
  },
  {
   "cell_type": "code",
   "execution_count": 10,
   "metadata": {
    "collapsed": true
   },
   "outputs": [],
   "source": [
    "# Drop the old trip_list_id_num and replace by merging with original input values \n",
    "df.drop('trip_list_id_num',axis=1,inplace=True)\n",
    "df = pd.merge(df,obsinput[['person_id','trip_list_id_num','o_taz','d_taz']],\n",
    "              left_on=['person_id','path_o_taz','path_d_taz'], right_on=['person_id','o_taz','d_taz'], \n",
    "              how='inner')    \n",
    "# Using inner join returns only person_id + trip_list_id_num pairs in the actual trip_list.txt file"
   ]
  },
  {
   "cell_type": "code",
   "execution_count": 11,
   "metadata": {
    "collapsed": false
   },
   "outputs": [],
   "source": [
    "df.to_csv(r'C:\\Users\\Brice\\fast-trips-validation\\data\\obs\\updated_obs\\obs_links.csv',index=False)"
   ]
  },
  {
   "cell_type": "code",
   "execution_count": null,
   "metadata": {
    "collapsed": true
   },
   "outputs": [],
   "source": []
  }
 ],
 "metadata": {
  "kernelspec": {
   "display_name": "Python 2",
   "language": "python",
   "name": "python2"
  },
  "language_info": {
   "codemirror_mode": {
    "name": "ipython",
    "version": 2
   },
   "file_extension": ".py",
   "mimetype": "text/x-python",
   "name": "python",
   "nbconvert_exporter": "python",
   "pygments_lexer": "ipython2",
   "version": "2.7.9"
  }
 },
 "nbformat": 4,
 "nbformat_minor": 0
}
