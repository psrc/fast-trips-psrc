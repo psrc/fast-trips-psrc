{
 "cells": [
  {
   "cell_type": "code",
   "execution_count": 1,
   "metadata": {
    "collapsed": true
   },
   "outputs": [],
   "source": [
    "import pandas as pd\n",
    "\n",
    "% matplotlib inline"
   ]
  },
  {
   "cell_type": "markdown",
   "metadata": {},
   "source": [
    "# results of prepare_fasttrips"
   ]
  },
  {
   "cell_type": "code",
   "execution_count": 2,
   "metadata": {
    "collapsed": true
   },
   "outputs": [],
   "source": [
    "# Load results\n",
    "working_dir = r'J:\\Projects\\FasTrips\\obs\\output\\OBS_fasttrips_demand_v1.1_stochastic_iter2_nocap_30000'\n",
    "\n",
    "chosenpaths_links_with_observed = pd.read_csv(working_dir + r'\\\\' + 'chosenpaths_links_with_observed.csv')\n",
    "path_comparison = pd.read_csv(working_dir + r'\\\\' + 'path_comparison.csv')\n",
    "path_intersection = pd.read_csv(working_dir + r'\\\\' + 'path_intersection.csv')"
   ]
  },
  {
   "cell_type": "code",
   "execution_count": 20,
   "metadata": {
    "collapsed": false
   },
   "outputs": [
    {
     "data": {
      "text/plain": [
       "0          NaN\n",
       "1     06:22:21\n",
       "2          NaN\n",
       "3     07:37:00\n",
       "4          NaN\n",
       "5          NaN\n",
       "6     16:24:42\n",
       "7          NaN\n",
       "8          NaN\n",
       "9     06:13:00\n",
       "10         NaN\n",
       "11         NaN\n",
       "12    08:11:25\n",
       "13         NaN\n",
       "14         NaN\n",
       "...\n",
       "48589         NaN\n",
       "48590    20:30:00\n",
       "48591         NaN\n",
       "48592    20:59:00\n",
       "48593         NaN\n",
       "48594         NaN\n",
       "48595    19:06:00\n",
       "48596         NaN\n",
       "48597         NaN\n",
       "48598    07:05:00\n",
       "48599         NaN\n",
       "48600    07:10:00\n",
       "48601         NaN\n",
       "48602    08:03:18\n",
       "48603         NaN\n",
       "Name: board_time, Length: 48604, dtype: object"
      ]
     },
     "execution_count": 20,
     "metadata": {},
     "output_type": "execute_result"
    }
   ],
   "source": [
    "chosenpaths_links_with_observed['board_time'] = "
   ]
  },
  {
   "cell_type": "code",
   "execution_count": 4,
   "metadata": {
    "collapsed": false
   },
   "outputs": [
    {
     "data": {
      "text/plain": [
       "Index([u'Unnamed: 0', u'path_routes_observed', u'path_modes_observed', u'path_agencies_observed', u'path_components_observed', u'path_stops_observed', u'unique_id', u'path_routes_model', u'path_modes_model', u'path_agencies_model', u'path_components_model', u'path_stops_model', u'model_path_route_list', u'obs_path_route_list', u'model_path_mode_list', u'obs_path_mode_list', u'model_path_agencies_list', u'obs_path_agencies_list', u'model_path_stops_list', u'obs_path_stops_list', u'model_transit_modes', u'obs_transit_modes', u'routes_intersection', u'stops_intersection', u'all_modes_intersection', u'transit_modes_intersection', u'agency_intersection', u'complete_mode_match', u'complete_route_match', u'complete_agency_match', u'complete_stop_match', u'common_route_count', u'common_mode_count', u'common_transit_mode_count', u'common_agency_count', u'common_stop_count', u'partial_mode_match', u'partial_transit_mode_match', u'partial_route_match', u'partial_agency_match', u'partial_stop_match'], dtype='object')"
      ]
     },
     "execution_count": 4,
     "metadata": {},
     "output_type": "execute_result"
    }
   ],
   "source": [
    "path_intersection.columns"
   ]
  },
  {
   "cell_type": "markdown",
   "metadata": {},
   "source": [
    "## Route matches"
   ]
  },
  {
   "cell_type": "code",
   "execution_count": 5,
   "metadata": {
    "collapsed": false
   },
   "outputs": [
    {
     "data": {
      "text/plain": [
       "<matplotlib.axes._subplots.AxesSubplot at 0x11cbecf8>"
      ]
     },
     "execution_count": 5,
     "metadata": {},
     "output_type": "execute_result"
    },
    {
     "data": {
      "image/png": "[encoded data removed]",
      "text/plain": [
       "<matplotlib.figure.Figure at 0xc4ed518>"
      ]
     },
     "metadata": {},
     "output_type": "display_data"
    }
   ],
   "source": [
    "route_matches = path_comparison[path_comparison.path_routes_obs == path_comparison.path_routes_model]\n",
    "route_matches.groupby('path_agencies_model').count()['unique_id'].plot(kind='bar')"
   ]
  },
  {
   "cell_type": "code",
   "execution_count": null,
   "metadata": {
    "collapsed": false
   },
   "outputs": [],
   "source": []
  },
  {
   "cell_type": "markdown",
   "metadata": {},
   "source": [
    "# Agency mismatches"
   ]
  },
  {
   "cell_type": "code",
   "execution_count": 6,
   "metadata": {
    "collapsed": false
   },
   "outputs": [],
   "source": [
    "path_comparison.agency_transfers_model = path_comparison.path_agencies_model.apply(lambda row: len(row.split(' ')))"
   ]
  },
  {
   "cell_type": "code",
   "execution_count": 7,
   "metadata": {
    "collapsed": false
   },
   "outputs": [],
   "source": [
    "path_comparison.agency_transfers_obs = path_comparison.path_agencies_obs.apply(lambda row: len(row.split(' ')))"
   ]
  },
  {
   "cell_type": "markdown",
   "metadata": {
    "collapsed": true
   },
   "source": [
    "# geography"
   ]
  },
  {
   "cell_type": "code",
   "execution_count": 8,
   "metadata": {
    "collapsed": true
   },
   "outputs": [],
   "source": [
    "walk_access_ft = pd.read_csv(r'R:\\FastTrips\\network_draft1.9\\walk_access_ft.txt')"
   ]
  },
  {
   "cell_type": "code",
   "execution_count": 9,
   "metadata": {
    "collapsed": false
   },
   "outputs": [
    {
     "data": {
      "text/plain": [
       "44638"
      ]
     },
     "execution_count": 9,
     "metadata": {},
     "output_type": "execute_result"
    }
   ],
   "source": [
    "len(walk_access_ft)"
   ]
  },
  {
   "cell_type": "code",
   "execution_count": 10,
   "metadata": {
    "collapsed": false
   },
   "outputs": [
    {
     "data": {
      "text/html": [
       "<div style=\"max-height:1000px;max-width:1500px;overflow:auto;\">\n",
       "<table border=\"1\" class=\"dataframe\">\n",
       "  <thead>\n",
       "    <tr style=\"text-align: right;\">\n",
       "      <th></th>\n",
       "      <th>taz</th>\n",
       "      <th>stop_id</th>\n",
       "      <th>dist</th>\n",
       "      <th>elevation_gain</th>\n",
       "      <th>population_density</th>\n",
       "      <th>employment_density</th>\n",
       "      <th>auto_capacity</th>\n",
       "      <th>indirectness</th>\n",
       "    </tr>\n",
       "  </thead>\n",
       "  <tbody>\n",
       "    <tr>\n",
       "      <th>2167 </th>\n",
       "      <td> 2019</td>\n",
       "      <td> 103613</td>\n",
       "      <td> 0.39</td>\n",
       "      <td> 0</td>\n",
       "      <td> 21.457157</td>\n",
       "      <td> 30.400719</td>\n",
       "      <td> 3600.000000</td>\n",
       "      <td> 1.055040</td>\n",
       "    </tr>\n",
       "    <tr>\n",
       "      <th>5338 </th>\n",
       "      <td> 2019</td>\n",
       "      <td> 103559</td>\n",
       "      <td> 0.22</td>\n",
       "      <td> 0</td>\n",
       "      <td> 27.358680</td>\n",
       "      <td> 23.410237</td>\n",
       "      <td> 2720.833333</td>\n",
       "      <td> 1.050315</td>\n",
       "    </tr>\n",
       "    <tr>\n",
       "      <th>7252 </th>\n",
       "      <td> 2019</td>\n",
       "      <td>  13065</td>\n",
       "      <td> 0.46</td>\n",
       "      <td> 0</td>\n",
       "      <td> 29.954058</td>\n",
       "      <td> 16.484073</td>\n",
       "      <td> 1862.500000</td>\n",
       "      <td> 1.166797</td>\n",
       "    </tr>\n",
       "    <tr>\n",
       "      <th>13435</th>\n",
       "      <td> 2019</td>\n",
       "      <td> 103602</td>\n",
       "      <td> 0.30</td>\n",
       "      <td> 0</td>\n",
       "      <td> 27.358680</td>\n",
       "      <td> 23.410237</td>\n",
       "      <td> 2720.833333</td>\n",
       "      <td> 1.050315</td>\n",
       "    </tr>\n",
       "    <tr>\n",
       "      <th>14702</th>\n",
       "      <td> 2019</td>\n",
       "      <td> 103550</td>\n",
       "      <td> 0.97</td>\n",
       "      <td> 0</td>\n",
       "      <td> 29.081699</td>\n",
       "      <td> 42.257660</td>\n",
       "      <td> 4137.313433</td>\n",
       "      <td> 1.679841</td>\n",
       "    </tr>\n",
       "    <tr>\n",
       "      <th>19834</th>\n",
       "      <td> 2019</td>\n",
       "      <td> 103596</td>\n",
       "      <td> 0.63</td>\n",
       "      <td> 0</td>\n",
       "      <td> 25.198946</td>\n",
       "      <td> 48.961175</td>\n",
       "      <td> 4437.209302</td>\n",
       "      <td> 1.067885</td>\n",
       "    </tr>\n",
       "    <tr>\n",
       "      <th>20114</th>\n",
       "      <td> 2019</td>\n",
       "      <td> 103603</td>\n",
       "      <td> 0.50</td>\n",
       "      <td> 0</td>\n",
       "      <td> 27.358680</td>\n",
       "      <td> 23.410237</td>\n",
       "      <td> 2720.833333</td>\n",
       "      <td> 1.050315</td>\n",
       "    </tr>\n",
       "    <tr>\n",
       "      <th>28942</th>\n",
       "      <td> 2019</td>\n",
       "      <td> 103558</td>\n",
       "      <td> 0.66</td>\n",
       "      <td> 0</td>\n",
       "      <td> 20.450603</td>\n",
       "      <td> 25.210303</td>\n",
       "      <td> 1900.000000</td>\n",
       "      <td> 2.395832</td>\n",
       "    </tr>\n",
       "    <tr>\n",
       "      <th>29756</th>\n",
       "      <td> 2019</td>\n",
       "      <td> 103595</td>\n",
       "      <td> 0.48</td>\n",
       "      <td> 0</td>\n",
       "      <td> 30.664824</td>\n",
       "      <td> 23.345918</td>\n",
       "      <td> 2700.000000</td>\n",
       "      <td> 1.000000</td>\n",
       "    </tr>\n",
       "    <tr>\n",
       "      <th>30231</th>\n",
       "      <td> 2019</td>\n",
       "      <td>  15063</td>\n",
       "      <td> 0.97</td>\n",
       "      <td> 0</td>\n",
       "      <td> 25.198946</td>\n",
       "      <td> 48.961175</td>\n",
       "      <td> 4437.209302</td>\n",
       "      <td> 1.067885</td>\n",
       "    </tr>\n",
       "    <tr>\n",
       "      <th>30502</th>\n",
       "      <td> 2019</td>\n",
       "      <td>  16523</td>\n",
       "      <td> 0.97</td>\n",
       "      <td> 0</td>\n",
       "      <td> 25.198946</td>\n",
       "      <td> 48.961175</td>\n",
       "      <td> 4437.209302</td>\n",
       "      <td> 1.067885</td>\n",
       "    </tr>\n",
       "    <tr>\n",
       "      <th>31362</th>\n",
       "      <td> 2019</td>\n",
       "      <td> 103599</td>\n",
       "      <td> 0.50</td>\n",
       "      <td> 0</td>\n",
       "      <td> 21.457157</td>\n",
       "      <td> 30.400719</td>\n",
       "      <td> 3600.000000</td>\n",
       "      <td> 1.055040</td>\n",
       "    </tr>\n",
       "    <tr>\n",
       "      <th>33598</th>\n",
       "      <td> 2019</td>\n",
       "      <td> 103560</td>\n",
       "      <td> 0.95</td>\n",
       "      <td> 0</td>\n",
       "      <td> 27.358680</td>\n",
       "      <td> 23.410237</td>\n",
       "      <td> 2720.833333</td>\n",
       "      <td> 1.050315</td>\n",
       "    </tr>\n",
       "    <tr>\n",
       "      <th>34516</th>\n",
       "      <td> 2019</td>\n",
       "      <td> 103551</td>\n",
       "      <td> 0.73</td>\n",
       "      <td> 0</td>\n",
       "      <td> 25.198946</td>\n",
       "      <td> 48.961175</td>\n",
       "      <td> 4437.209302</td>\n",
       "      <td> 1.067885</td>\n",
       "    </tr>\n",
       "    <tr>\n",
       "      <th>35754</th>\n",
       "      <td> 2019</td>\n",
       "      <td> 103578</td>\n",
       "      <td> 0.37</td>\n",
       "      <td> 0</td>\n",
       "      <td> 29.954058</td>\n",
       "      <td> 16.484073</td>\n",
       "      <td> 1862.500000</td>\n",
       "      <td> 1.166797</td>\n",
       "    </tr>\n",
       "    <tr>\n",
       "      <th>38519</th>\n",
       "      <td> 2019</td>\n",
       "      <td> 103561</td>\n",
       "      <td> 0.84</td>\n",
       "      <td> 0</td>\n",
       "      <td> 29.081699</td>\n",
       "      <td> 42.257660</td>\n",
       "      <td> 4137.313433</td>\n",
       "      <td> 1.679841</td>\n",
       "    </tr>\n",
       "    <tr>\n",
       "      <th>39895</th>\n",
       "      <td> 2019</td>\n",
       "      <td> 103590</td>\n",
       "      <td> 0.92</td>\n",
       "      <td> 0</td>\n",
       "      <td> 25.198946</td>\n",
       "      <td> 48.961175</td>\n",
       "      <td> 4437.209302</td>\n",
       "      <td> 1.067885</td>\n",
       "    </tr>\n",
       "  </tbody>\n",
       "</table>\n",
       "</div>"
      ],
      "text/plain": [
       "        taz  stop_id  dist  elevation_gain  population_density  \\\n",
       "2167   2019   103613  0.39               0           21.457157   \n",
       "5338   2019   103559  0.22               0           27.358680   \n",
       "7252   2019    13065  0.46               0           29.954058   \n",
       "13435  2019   103602  0.30               0           27.358680   \n",
       "14702  2019   103550  0.97               0           29.081699   \n",
       "19834  2019   103596  0.63               0           25.198946   \n",
       "20114  2019   103603  0.50               0           27.358680   \n",
       "28942  2019   103558  0.66               0           20.450603   \n",
       "29756  2019   103595  0.48               0           30.664824   \n",
       "30231  2019    15063  0.97               0           25.198946   \n",
       "30502  2019    16523  0.97               0           25.198946   \n",
       "31362  2019   103599  0.50               0           21.457157   \n",
       "33598  2019   103560  0.95               0           27.358680   \n",
       "34516  2019   103551  0.73               0           25.198946   \n",
       "35754  2019   103578  0.37               0           29.954058   \n",
       "38519  2019   103561  0.84               0           29.081699   \n",
       "39895  2019   103590  0.92               0           25.198946   \n",
       "\n",
       "       employment_density  auto_capacity  indirectness  \n",
       "2167            30.400719    3600.000000      1.055040  \n",
       "5338            23.410237    2720.833333      1.050315  \n",
       "7252            16.484073    1862.500000      1.166797  \n",
       "13435           23.410237    2720.833333      1.050315  \n",
       "14702           42.257660    4137.313433      1.679841  \n",
       "19834           48.961175    4437.209302      1.067885  \n",
       "20114           23.410237    2720.833333      1.050315  \n",
       "28942           25.210303    1900.000000      2.395832  \n",
       "29756           23.345918    2700.000000      1.000000  \n",
       "30231           48.961175    4437.209302      1.067885  \n",
       "30502           48.961175    4437.209302      1.067885  \n",
       "31362           30.400719    3600.000000      1.055040  \n",
       "33598           23.410237    2720.833333      1.050315  \n",
       "34516           48.961175    4437.209302      1.067885  \n",
       "35754           16.484073    1862.500000      1.166797  \n",
       "38519           42.257660    4137.313433      1.679841  \n",
       "39895           48.961175    4437.209302      1.067885  "
      ]
     },
     "execution_count": 10,
     "metadata": {},
     "output_type": "execute_result"
    }
   ],
   "source": [
    "walk_access_ft[walk_access_ft['taz']==2019]"
   ]
  },
  {
   "cell_type": "code",
   "execution_count": 11,
   "metadata": {
    "collapsed": true
   },
   "outputs": [],
   "source": [
    "# \n"
   ]
  },
  {
   "cell_type": "code",
   "execution_count": null,
   "metadata": {
    "collapsed": true
   },
   "outputs": [],
   "source": []
  }
 ],
 "metadata": {
  "kernelspec": {
   "display_name": "Python 2",
   "language": "python",
   "name": "python2"
  },
  "language_info": {
   "codemirror_mode": {
    "name": "ipython",
    "version": 2
   },
   "file_extension": ".py",
   "mimetype": "text/x-python",
   "name": "python",
   "nbconvert_exporter": "python",
   "pygments_lexer": "ipython2",
   "version": "2.7.9"
  }
 },
 "nbformat": 4,
 "nbformat_minor": 0
}
